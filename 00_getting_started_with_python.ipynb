{
  "nbformat": 4,
  "nbformat_minor": 0,
  "metadata": {
    "colab": {
      "name": "00_getting_started_with_python.ipynb",
      "provenance": [],
      "authorship_tag": "ABX9TyPI0MLv7LRET4UtRUP5Ss73",
      "include_colab_link": true
    },
    "kernelspec": {
      "name": "python3",
      "display_name": "Python 3"
    },
    "language_info": {
      "name": "python"
    }
  },
  "cells": [
    {
      "cell_type": "markdown",
      "metadata": {
        "id": "view-in-github",
        "colab_type": "text"
      },
      "source": [
        "<a href=\"https://colab.research.google.com/github/hetraj-solanki/data-science/blob/release/00_getting_started_with_python.ipynb\" target=\"_parent\"><img src=\"https://colab.research.google.com/assets/colab-badge.svg\" alt=\"Open In Colab\"/></a>"
      ]
    },
    {
      "cell_type": "markdown",
      "metadata": {
        "id": "B1U7WcFya4rM"
      },
      "source": [
        "# Variables and Data types"
      ]
    },
    {
      "cell_type": "markdown",
      "metadata": {
        "id": "bD_CFCkHwUon"
      },
      "source": [
        "## Comments"
      ]
    },
    {
      "cell_type": "code",
      "metadata": {
        "id": "FVCqOO0Sa_n1",
        "colab": {
          "base_uri": "https://localhost:8080/"
        },
        "outputId": "5a87b453-5f4e-40b2-e7ba-374df81a2da9"
      },
      "source": [
        "print(\"I\") # This is step #1\n",
        "print(\"love\") # Step number 2 comes after #1\n",
        "print(\"cheesecake\") # This is the last step"
      ],
      "execution_count": 1,
      "outputs": [
        {
          "output_type": "stream",
          "text": [
            "I\n",
            "love\n",
            "cheesecake\n"
          ],
          "name": "stdout"
        }
      ]
    },
    {
      "cell_type": "code",
      "metadata": {
        "colab": {
          "base_uri": "https://localhost:8080/"
        },
        "id": "fEVmYhFjuo2x",
        "outputId": "2b07a9bd-eb45-4c63-a074-76404a989682"
      },
      "source": [
        "True  # Boolean data-type"
      ],
      "execution_count": null,
      "outputs": [
        {
          "output_type": "execute_result",
          "data": {
            "text/plain": [
              "True"
            ]
          },
          "metadata": {
            "tags": []
          },
          "execution_count": 20
        }
      ]
    },
    {
      "cell_type": "code",
      "metadata": {
        "id": "geyBxLY3d1QU",
        "colab": {
          "base_uri": "https://localhost:8080/"
        },
        "outputId": "d91360bb-5d15-49e6-dbbd-6e4fb9a8b17d"
      },
      "source": [
        "100 # Int data type  "
      ],
      "execution_count": null,
      "outputs": [
        {
          "output_type": "execute_result",
          "data": {
            "text/plain": [
              "100"
            ]
          },
          "metadata": {
            "tags": []
          },
          "execution_count": 21
        }
      ]
    },
    {
      "cell_type": "code",
      "metadata": {
        "colab": {
          "base_uri": "https://localhost:8080/",
          "height": 35
        },
        "id": "ZPaCfPU0u7E_",
        "outputId": "63a944ec-6d57-4be2-815f-f4788208ba92"
      },
      "source": [
        "'One line string with single quotes'"
      ],
      "execution_count": null,
      "outputs": [
        {
          "output_type": "execute_result",
          "data": {
            "application/vnd.google.colaboratory.intrinsic+json": {
              "type": "string"
            },
            "text/plain": [
              "'One line string with single quotes'"
            ]
          },
          "metadata": {
            "tags": []
          },
          "execution_count": 22
        }
      ]
    },
    {
      "cell_type": "code",
      "metadata": {
        "colab": {
          "base_uri": "https://localhost:8080/",
          "height": 35
        },
        "id": "9jArKT_wvJuZ",
        "outputId": "5c4244b2-13c5-4192-ff5b-c28ec7dc41b0"
      },
      "source": [
        "\"One line 'string' with double quotes\""
      ],
      "execution_count": null,
      "outputs": [
        {
          "output_type": "execute_result",
          "data": {
            "application/vnd.google.colaboratory.intrinsic+json": {
              "type": "string"
            },
            "text/plain": [
              "\"One line 'string' with double quotes\""
            ]
          },
          "metadata": {
            "tags": []
          },
          "execution_count": 23
        }
      ]
    },
    {
      "cell_type": "code",
      "metadata": {
        "colab": {
          "base_uri": "https://localhost:8080/",
          "height": 35
        },
        "id": "yQXp5g_svNgH",
        "outputId": "4dfbadf3-b278-466a-9335-84976e591ccf"
      },
      "source": [
        "\"\"\"You can also create strings \n",
        "with multiple lines \"\"\""
      ],
      "execution_count": null,
      "outputs": [
        {
          "output_type": "execute_result",
          "data": {
            "application/vnd.google.colaboratory.intrinsic+json": {
              "type": "string"
            },
            "text/plain": [
              "'You can also create strings \\nwith multiple lines '"
            ]
          },
          "metadata": {
            "tags": []
          },
          "execution_count": 24
        }
      ]
    },
    {
      "cell_type": "code",
      "metadata": {
        "colab": {
          "base_uri": "https://localhost:8080/",
          "height": 35
        },
        "id": "eUKlZAwJvZAv",
        "outputId": "89e1441f-0ae2-4705-db65-1fa2932a4a4f"
      },
      "source": [
        "'I love' + \"to travel\" + \"\"\"the world\"\"\" # You will notice weird concat for string values, we have to provide space for a proper look. A better way is to use fstring"
      ],
      "execution_count": null,
      "outputs": [
        {
          "output_type": "execute_result",
          "data": {
            "application/vnd.google.colaboratory.intrinsic+json": {
              "type": "string"
            },
            "text/plain": [
              "'I loveto travelthe world'"
            ]
          },
          "metadata": {
            "tags": []
          },
          "execution_count": 25
        }
      ]
    },
    {
      "cell_type": "code",
      "metadata": {
        "colab": {
          "base_uri": "https://localhost:8080/"
        },
        "id": "zzA_B8JSvdvA",
        "outputId": "c85dd8c5-3481-492c-eb71-f54309185721"
      },
      "source": [
        "a = 'I love'\n",
        "b = 'to travel'\n",
        "c = 'the world'\n",
        "# Using fstring feels more natural and less prone to errors\n",
        "print(f\"{a} {b} {c}\")"
      ],
      "execution_count": null,
      "outputs": [
        {
          "output_type": "stream",
          "text": [
            "I love to travel the world\n"
          ],
          "name": "stdout"
        }
      ]
    },
    {
      "cell_type": "code",
      "metadata": {
        "colab": {
          "base_uri": "https://localhost:8080/"
        },
        "id": "SsbeNiU5wDOP",
        "outputId": "d1b6035b-f956-49be-d294-497b81fdf0ac"
      },
      "source": [
        "type(True)"
      ],
      "execution_count": null,
      "outputs": [
        {
          "output_type": "execute_result",
          "data": {
            "text/plain": [
              "bool"
            ]
          },
          "metadata": {
            "tags": []
          },
          "execution_count": 27
        }
      ]
    },
    {
      "cell_type": "code",
      "metadata": {
        "colab": {
          "base_uri": "https://localhost:8080/"
        },
        "id": "_qJPNfk-wJJx",
        "outputId": "4a45a208-cebb-4e6d-b114-91e1de755d98"
      },
      "source": [
        "type(100)"
      ],
      "execution_count": null,
      "outputs": [
        {
          "output_type": "execute_result",
          "data": {
            "text/plain": [
              "int"
            ]
          },
          "metadata": {
            "tags": []
          },
          "execution_count": 28
        }
      ]
    },
    {
      "cell_type": "code",
      "metadata": {
        "colab": {
          "base_uri": "https://localhost:8080/"
        },
        "id": "-mOw-LgTwK1P",
        "outputId": "e1dae601-893c-47af-e548-0325ef4bb2b9"
      },
      "source": [
        "type('Aloha')"
      ],
      "execution_count": null,
      "outputs": [
        {
          "output_type": "execute_result",
          "data": {
            "text/plain": [
              "str"
            ]
          },
          "metadata": {
            "tags": []
          },
          "execution_count": 29
        }
      ]
    },
    {
      "cell_type": "code",
      "metadata": {
        "id": "4hDcLozOwN2Z"
      },
      "source": [
        ""
      ],
      "execution_count": null,
      "outputs": []
    },
    {
      "cell_type": "code",
      "metadata": {
        "id": "uQ2zJQIDwq6n"
      },
      "source": [
        ""
      ],
      "execution_count": null,
      "outputs": []
    },
    {
      "cell_type": "markdown",
      "metadata": {
        "id": "8Ul3XkAiwsjg"
      },
      "source": [
        "# Conditionals and Loops"
      ]
    },
    {
      "cell_type": "code",
      "metadata": {
        "id": "rjWPBi_-wzT4"
      },
      "source": [
        ""
      ],
      "execution_count": null,
      "outputs": []
    },
    {
      "cell_type": "markdown",
      "metadata": {
        "id": "Q_a9uQt7w0Pn"
      },
      "source": [
        "# Methods, Functions and Classes"
      ]
    },
    {
      "cell_type": "code",
      "metadata": {
        "id": "GPW7g45vxBFp"
      },
      "source": [
        ""
      ],
      "execution_count": null,
      "outputs": []
    },
    {
      "cell_type": "markdown",
      "metadata": {
        "id": "HjRHrKUnw3ri"
      },
      "source": [
        "# Collection and Classes"
      ]
    },
    {
      "cell_type": "code",
      "metadata": {
        "id": "ie1aR0XvxAHH"
      },
      "source": [
        ""
      ],
      "execution_count": null,
      "outputs": []
    }
  ]
}